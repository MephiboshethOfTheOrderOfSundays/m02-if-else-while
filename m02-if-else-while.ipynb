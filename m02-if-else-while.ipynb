{
 "cells": [
  {
   "cell_type": "markdown",
   "id": "1c5cc3b4",
   "metadata": {},
   "source": [
    "# Joseph D. McClamrock\n",
    "# m02-if-else-while.ipynb\n",
    "#### This application will analyze GPAs of students and display the results.\n",
    "#### Variables used:\n",
    "####   • firstname: String variable storing student's first name\n",
    "####   • lastname: String variable storing student's last name\n",
    "####   • gpa: Float variable storing student's GPA"
   ]
  },
  {
   "cell_type": "code",
   "execution_count": 1,
   "id": "fe7d55dd",
   "metadata": {},
   "outputs": [
    {
     "name": "stdout",
     "output_type": "stream",
     "text": [
      "Enter the student's last name: Bennett\n",
      "Enter the student's first name: Elizabeth\n",
      "Enter the student's GPA (grade point average): 2.5\n",
      "Enter the student's last name: Osborn\n",
      "Enter the student's first name: Harry\n",
      "Enter the student's GPA (grade point average): 3.6\n",
      "Harry Osborn has made the Dean's List\n",
      "Harry Osborn has made the Honor Roll\n",
      "Enter the student's last name: Pevensie\n",
      "Enter the student's first name: Lucy\n",
      "Enter the student's GPA (grade point average): 3.3\n",
      "Lucy Pevensie has made the Honor Roll\n",
      "Enter the student's last name: Moffat\n",
      "Enter the student's first name: Rufus\n",
      "Enter the student's GPA (grade point average): 1.2\n",
      "Enter the student's last name: Gale\n",
      "Enter the student's first name: Dorothy\n",
      "Enter the student's GPA (grade point average): 4.0\n",
      "Dorothy Gale has made the Dean's List\n",
      "Dorothy Gale has made the Honor Roll\n",
      "Enter the student's last name: ZZZ\n"
     ]
    }
   ],
   "source": [
    "lastname = input(\"Enter the student's last name: \")\n",
    "while lastname != 'ZZZ':\n",
    "    firstname = input(\"Enter the student's first name: \")\n",
    "    gpa = float(input(\"Enter the student's GPA (grade point average): \"))\n",
    "    if gpa >= 3.5:\n",
    "        print(firstname, lastname, \"has made the Dean's List\")\n",
    "    if gpa >= 3.25:\n",
    "        print(firstname, lastname, \"has made the Honor Roll\")\n",
    "    lastname = input(\"Enter the student's last name: \")\n"
   ]
  }
 ],
 "metadata": {
  "kernelspec": {
   "display_name": "Python 3 (ipykernel)",
   "language": "python",
   "name": "python3"
  },
  "language_info": {
   "codemirror_mode": {
    "name": "ipython",
    "version": 3
   },
   "file_extension": ".py",
   "mimetype": "text/x-python",
   "name": "python",
   "nbconvert_exporter": "python",
   "pygments_lexer": "ipython3",
   "version": "3.10.9"
  }
 },
 "nbformat": 4,
 "nbformat_minor": 5
}
